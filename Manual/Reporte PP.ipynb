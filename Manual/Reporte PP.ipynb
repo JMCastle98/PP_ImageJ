{
 "cells": [
  {
   "cell_type": "markdown",
   "id": "f58bcf15",
   "metadata": {},
   "source": [
    "# Reporte del desarrollo de análisis de imágenes y partículas con OpenCV y Python\n",
    "\n",
    "Estructura:\n",
    "\n",
    "Introducción sobre el análisis de partículas y su importancia\n",
    "Trabajo previo en ImageJ\n",
    "Sobre OpenCV y Python\n",
    "\n",
    "conceptos de análisis de imágenes:\n",
    "    Threshold \n",
    "    Operaciones morfólogicas ( Importancia del kernel y como funciona)\n",
    "    Floodfill\n",
    "    watershed (distance_transform, substract, etc.)\n",
    "    Contornos ( Find contours, tipos de contornos, etc...)"
   ]
  },
  {
   "cell_type": "code",
   "execution_count": 3,
   "id": "cc886ee3",
   "metadata": {},
   "outputs": [],
   "source": [
    "import cv2\n",
    "import numpy as np\n",
    "from skimage import color\n",
    "\n",
    "img = cv2.imread('C:/Users/JMCas/Downloads/dust_promete004.tif',cv2.IMREAD_GRAYSCALE)\n",
    "\n",
    "cropped = img[0:1920]\n",
    "cropped2 = cropped.copy()\n",
    "#pixels_to_um = 0.454"
   ]
  },
  {
   "cell_type": "code",
   "execution_count": 4,
   "id": "b9db4ea3",
   "metadata": {},
   "outputs": [
    {
     "ename": "TypeError",
     "evalue": "imshow() missing required argument 'mat' (pos 2)",
     "output_type": "error",
     "traceback": [
      "\u001b[1;31m---------------------------------------------------------------------------\u001b[0m",
      "\u001b[1;31mTypeError\u001b[0m                                 Traceback (most recent call last)",
      "\u001b[1;32m<ipython-input-4-241c3a4e3367>\u001b[0m in \u001b[0;36m<module>\u001b[1;34m\u001b[0m\n\u001b[1;32m----> 1\u001b[1;33m \u001b[0mcv2\u001b[0m\u001b[1;33m.\u001b[0m\u001b[0mimshow\u001b[0m\u001b[1;33m(\u001b[0m\u001b[0mcropped\u001b[0m\u001b[1;33m)\u001b[0m\u001b[1;33m\u001b[0m\u001b[1;33m\u001b[0m\u001b[0m\n\u001b[0m",
      "\u001b[1;31mTypeError\u001b[0m: imshow() missing required argument 'mat' (pos 2)"
     ]
    }
   ],
   "source": []
  },
  {
   "cell_type": "code",
   "execution_count": 2,
   "id": "591ddbb7",
   "metadata": {},
   "outputs": [],
   "source": [
    "cv2.namedWindow('img', cv2.WINDOW_NORMAL)\n",
    "cv2.resizeWindow('img', 1200, 1000)\n",
    "\n",
    "\n",
    "cv2.imshow('img', cropped)\n",
    "cv2.waitKey(0)\n",
    "\n",
    "cv2.destroyAllWindows()"
   ]
  },
  {
   "cell_type": "code",
   "execution_count": null,
   "id": "9681b44e",
   "metadata": {},
   "outputs": [],
   "source": []
  }
 ],
 "metadata": {
  "kernelspec": {
   "display_name": "Python 3",
   "language": "python",
   "name": "python3"
  },
  "language_info": {
   "codemirror_mode": {
    "name": "ipython",
    "version": 3
   },
   "file_extension": ".py",
   "mimetype": "text/x-python",
   "name": "python",
   "nbconvert_exporter": "python",
   "pygments_lexer": "ipython3",
   "version": "3.8.10"
  }
 },
 "nbformat": 4,
 "nbformat_minor": 5
}
